{
 "cells": [
  {
   "cell_type": "code",
   "execution_count": 17,
   "metadata": {},
   "outputs": [],
   "source": [
    "import pandas as pd\n",
    "import numpy as np\n",
    "import cv2\n",
    "\n",
    "def decode_rle(mask_rle, shape):\n",
    "    \"\"\"\n",
    "    Decode RLE string into a binary mask.\n",
    "    \"\"\"\n",
    "    s = mask_rle.split()\n",
    "    starts, lengths = [np.asarray(x, dtype=int) for x in (s[0:][::2], s[1:][::2])]\n",
    "    starts -= 1\n",
    "    ends = starts + lengths\n",
    "    img = np.zeros(shape[0]*shape[1], dtype=np.uint8)\n",
    "    for lo, hi in zip(starts, ends):\n",
    "        img[lo:hi] = 1\n",
    "    return img.reshape(shape)\n",
    "\n",
    "def save_images_from_submission(submission_file, output_dir):\n",
    "    \"\"\"\n",
    "    Decode RLE from submission.csv file and save the images.\n",
    "    \"\"\"\n",
    "    df = pd.read_csv(submission_file)\n",
    "    for idx, row in df.iterrows():\n",
    "        mask = decode_rle(row['rle_mask'], (1280, 1920)).astype(float)*255.0\n",
    "        mask = cv2.resize(mask, (1920//4, 1280//4))\n",
    "        cv2.imwrite(f\"{output_dir}/ORIG{row['img']}\", mask)\n",
    "        mask1 = cv2.resize(mask, (1918, 1280), interpolation=cv2.INTER_LINEAR)\n",
    "        cv2.imwrite(f\"{output_dir}/RESIZE{row['img']}\", mask1*255)\n",
    "        mask2 = cv2.resize(mask, (1918, 1280), interpolation=cv2.INTER_NEAREST)\n",
    "        cv2.imwrite(f\"{output_dir}/RESIZE2{row['img']}\", mask2*255)\n",
    "        break\n",
    "# Usage example\n",
    "submission_file = 'submission.csv'\n",
    "output_dir = 'decode_images'\n",
    "save_images_from_submission(submission_file, output_dir)\n"
   ]
  }
 ],
 "metadata": {
  "kernelspec": {
   "display_name": "Python 3",
   "language": "python",
   "name": "python3"
  },
  "language_info": {
   "codemirror_mode": {
    "name": "ipython",
    "version": 3
   },
   "file_extension": ".py",
   "mimetype": "text/x-python",
   "name": "python",
   "nbconvert_exporter": "python",
   "pygments_lexer": "ipython3",
   "version": "3.8.10"
  }
 },
 "nbformat": 4,
 "nbformat_minor": 2
}
